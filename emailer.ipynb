{
 "cells": [
  {
   "attachments": {},
   "cell_type": "markdown",
   "metadata": {},
   "source": [
    "# IMPORING REQUIRED LIBRARIES"
   ]
  },
  {
   "cell_type": "code",
   "execution_count": null,
   "metadata": {},
   "outputs": [],
   "source": [
    "import smtplib\n",
    "from email.message import EmailMessage\n",
    "import time"
   ]
  },
  {
   "attachments": {},
   "cell_type": "markdown",
   "metadata": {},
   "source": [
    "# MAKING A DICTIONARY ASSOCIATED WITH EMAIL OF PERSONS AND DETAILS"
   ]
  },
  {
   "cell_type": "code",
   "execution_count": null,
   "metadata": {},
   "outputs": [],
   "source": [
    "dict_add = {}\n",
    "to_file = \"to.txt\"\n",
    "'''\n",
    "--- FORMAT IN \"to.txt\" ---\n",
    "prof_email_id : prof_name, gender\n",
    "'''\n",
    "with open(to_file, \"r\") as tos:\n",
    "    namess = tos.readlines()\n",
    "    for i in namess:\n",
    "        email_name_g = i.split(\":\")\n",
    "        email_name_g = [email_name_g[0]] + email_name_g[-1].split(\",\")\n",
    "        email_name_g = [_.strip() for _ in email_name_g]\n",
    "        dict_add[email_name_g[0]] = (email_name_g[1:])\n",
    "# print(dict_add)\n",
    "print(len(dict_add))\n"
   ]
  },
  {
   "attachments": {},
   "cell_type": "markdown",
   "metadata": {},
   "source": [
    "# NOW SET-UP YOUR EMAIL ID FOR SENDING EMAILS FROM PYTHON"
   ]
  },
  {
   "cell_type": "code",
   "execution_count": null,
   "metadata": {},
   "outputs": [],
   "source": [
    "msg = EmailMessage()\n",
    "me = \"your_email_id\"\n",
    "me_pass = \"your_app_password\" # GENERATE APP PASSWORD FROM YOUR EMAIL SERVICE PROVIDER"
   ]
  },
  {
   "cell_type": "code",
   "execution_count": null,
   "metadata": {},
   "outputs": [],
   "source": [
    "s = smtplib.SMTP(host='smtp.gmail.com', port=587)\n",
    "s.ehlo()\n",
    "s.starttls()\n",
    "s.ehlo()\n",
    "s.login(me, me_pass)"
   ]
  },
  {
   "cell_type": "code",
   "execution_count": null,
   "metadata": {},
   "outputs": [],
   "source": [
    "test_dict = {\n",
    "    'email_id1' : ['Name', 'F'],\n",
    "    'email_id2' : ['Name2', 'M']\n",
    "}"
   ]
  },
  {
   "attachments": {},
   "cell_type": "markdown",
   "metadata": {},
   "source": [
    "## MESSAGE HEADER SETUP"
   ]
  },
  {
   "cell_type": "code",
   "execution_count": null,
   "metadata": {},
   "outputs": [],
   "source": [
    "msg['From'] = me\n",
    "# msg['To'] = you\n",
    "msg['Subject'] = \"TESTING EMAIL FROM PYTHON\""
   ]
  },
  {
   "attachments": {},
   "cell_type": "markdown",
   "metadata": {},
   "source": [
    "## MESSAGE "
   ]
  },
  {
   "cell_type": "code",
   "execution_count": null,
   "metadata": {},
   "outputs": [],
   "source": [
    "# testing message\n",
    "with open(\"message.txt\", \"r\") as fp:\n",
    "    _mess_cont = fp.read()\n",
    "\n",
    "    print(\"salutation \\n\"+_mess_cont)\n",
    "    "
   ]
  },
  {
   "attachments": {},
   "cell_type": "markdown",
   "metadata": {},
   "source": [
    "## FINALLY,"
   ]
  },
  {
   "cell_type": "code",
   "execution_count": null,
   "metadata": {},
   "outputs": [],
   "source": [
    "def email_sender(_dict):\n",
    "    for i in _dict:\n",
    "        salutaion = \"\"\n",
    "        _message = \"\"\n",
    "        with open(\"message.txt\", \"r\") as fp:\n",
    "            _mess_cont = fp.read()\n",
    "\n",
    "            # DEPENDING ON MALE OR FEMALE, CHANGE THE SALUTAION\n",
    "            salutaion = f'Hello {\"Sir\" if _dict[i][-1] == \"M\" else \"Madam\"},'  \n",
    "\n",
    "            _message = f\"{salutaion}\\n{_mess_cont}\"\n",
    "            # print(_message)\n",
    "            # input()\n",
    "            \n",
    "        msg.set_content(_message)\n",
    "        msg['To'] = i\n",
    "        s.sendmail(me, i, msg.as_string()) #_message.as_string())\n",
    "        print(f\"Email Sent to {_dict[i][0]}\")\n",
    "        # time.sleep(5)\n",
    "email_sender(test_dict)"
   ]
  },
  {
   "attachments": {},
   "cell_type": "markdown",
   "metadata": {},
   "source": [
    "# IMPORTANT, END YOUR SESSION"
   ]
  },
  {
   "cell_type": "code",
   "execution_count": null,
   "metadata": {},
   "outputs": [],
   "source": [
    "s.quit()\n"
   ]
  },
  {
   "cell_type": "code",
   "execution_count": null,
   "metadata": {},
   "outputs": [],
   "source": []
  }
 ],
 "metadata": {
  "kernelspec": {
   "display_name": "GlobalEnvironment",
   "language": "python",
   "name": "python3"
  },
  "language_info": {
   "codemirror_mode": {
    "name": "ipython",
    "version": 3
   },
   "file_extension": ".py",
   "mimetype": "text/x-python",
   "name": "python",
   "nbconvert_exporter": "python",
   "pygments_lexer": "ipython3",
   "version": "3.10.6"
  },
  "orig_nbformat": 4,
  "vscode": {
   "interpreter": {
    "hash": "37e1fb1bec1a71cc872f04cbae7efa28b150da833be6d20ef6d7d455e70be8c5"
   }
  }
 },
 "nbformat": 4,
 "nbformat_minor": 2
}
